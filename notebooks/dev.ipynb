{
 "cells": [
  {
   "cell_type": "code",
   "execution_count": 2,
   "metadata": {},
   "outputs": [],
   "source": [
    "from sklearn import datasets\n",
    "import pandas as pd\n",
    "import random\n",
    "import numpy as np\n",
    "from sklearn.preprocessing import LabelEncoder\n",
    "from sklearn.preprocessing import StandardScaler,MinMaxScaler,LabelEncoder\n",
    "from sklearn.decomposition import PCA\n",
    "from sklearn.model_selection import train_test_split\n",
    "from sklearn.discriminant_analysis import LinearDiscriminantAnalysis as LDA\n"
   ]
  },
  {
   "cell_type": "code",
   "execution_count": null,
   "metadata": {},
   "outputs": [],
   "source": [
    "datasets"
   ]
  },
  {
   "cell_type": "code",
   "execution_count": 3,
   "metadata": {},
   "outputs": [],
   "source": [
    "a = datasets.load_wine()\n",
    "df = pd.DataFrame()"
   ]
  },
  {
   "cell_type": "code",
   "execution_count": null,
   "metadata": {},
   "outputs": [],
   "source": [
    "a.keys()"
   ]
  },
  {
   "cell_type": "code",
   "execution_count": 5,
   "metadata": {},
   "outputs": [],
   "source": [
    "df[a['feature_names']] = a['data']"
   ]
  },
  {
   "cell_type": "code",
   "execution_count": 6,
   "metadata": {},
   "outputs": [],
   "source": [
    "df['target'] = a['target']"
   ]
  },
  {
   "cell_type": "code",
   "execution_count": null,
   "metadata": {},
   "outputs": [],
   "source": [
    "df"
   ]
  },
  {
   "cell_type": "code",
   "execution_count": null,
   "metadata": {},
   "outputs": [],
   "source": [
    "# Use dir() to get all attributes of the sklearn.datasets module\n",
    "dataset_functions = dir(datasets)\n",
    "\n",
    "# Filter functions that start with \"load_\" or \"fetch_\"\n",
    "dataset_functions = [f for f in dataset_functions if f.startswith(\"load_\") or f.startswith(\"fetch_\")]\n",
    "\n",
    "# Display the filtered dataset functions\n",
    "print(\"Available Datasets in sklearn.datasets:\")\n",
    "for func in dataset_functions:\n",
    "    print(f\"{func}()\")"
   ]
  },
  {
   "cell_type": "code",
   "execution_count": 3,
   "metadata": {},
   "outputs": [],
   "source": [
    "data = datasets.load_diabetes()\n",
    "df = pd.DataFrame()"
   ]
  },
  {
   "cell_type": "code",
   "execution_count": null,
   "metadata": {},
   "outputs": [],
   "source": [
    "data.keys()"
   ]
  },
  {
   "cell_type": "code",
   "execution_count": 5,
   "metadata": {},
   "outputs": [],
   "source": [
    "#extract independent variables\n",
    "df[data['feature_names']] = data['data']\n",
    "#extract dependent variables\n",
    "df['target'] = data['target']\n"
   ]
  },
  {
   "cell_type": "code",
   "execution_count": null,
   "metadata": {},
   "outputs": [],
   "source": [
    "df"
   ]
  },
  {
   "cell_type": "code",
   "execution_count": 24,
   "metadata": {},
   "outputs": [],
   "source": [
    "from random import randint,choice"
   ]
  },
  {
   "cell_type": "code",
   "execution_count": null,
   "metadata": {},
   "outputs": [],
   "source": [
    "random.randrange(0, 100, 1)"
   ]
  },
  {
   "cell_type": "code",
   "execution_count": null,
   "metadata": {},
   "outputs": [],
   "source": [
    "random.sample(1,1)"
   ]
  },
  {
   "cell_type": "code",
   "execution_count": 18,
   "metadata": {},
   "outputs": [],
   "source": [
    "def generate_random_numbers(min_value, max_value, length):\n",
    "    return [randint(min_value, max_value) for _ in range(length)]"
   ]
  },
  {
   "cell_type": "code",
   "execution_count": 22,
   "metadata": {},
   "outputs": [],
   "source": [
    "\n",
    "df = pd.DataFrame()\n",
    "df['col1'] = pd.DataFrame(generate_random_numbers(0,100,20))"
   ]
  },
  {
   "cell_type": "code",
   "execution_count": null,
   "metadata": {},
   "outputs": [],
   "source": [
    "df"
   ]
  },
  {
   "cell_type": "code",
   "execution_count": 26,
   "metadata": {},
   "outputs": [],
   "source": [
    "def generate_random_classes(length,class_length):\n",
    "    #generate randomly distributed classes based on the row count\n",
    "    strings = [f'class_{_}' for _ in range(class_length)]\n",
    "    return [choice(strings) for _ in range(length)]\n"
   ]
  },
  {
   "cell_type": "code",
   "execution_count": null,
   "metadata": {},
   "outputs": [],
   "source": [
    "generate_random_classes(100,3)"
   ]
  },
  {
   "cell_type": "code",
   "execution_count": 7,
   "metadata": {},
   "outputs": [],
   "source": [
    "import streamlit as st\n",
    "from sklearn.preprocessing import StandardScaler,MinMaxScaler\n",
    "from sklearn.decomposition import PCA"
   ]
  },
  {
   "cell_type": "code",
   "execution_count": null,
   "metadata": {},
   "outputs": [],
   "source": [
    "df.dtypes"
   ]
  },
  {
   "cell_type": "code",
   "execution_count": null,
   "metadata": {},
   "outputs": [],
   "source": [
    "for c in df.loc[:, ~df.columns.isin(['target'])].columns:\n",
    "    print(df[df[c].isna()][c])\n"
   ]
  },
  {
   "cell_type": "code",
   "execution_count": null,
   "metadata": {},
   "outputs": [],
   "source": [
    "df.columns"
   ]
  },
  {
   "cell_type": "code",
   "execution_count": null,
   "metadata": {},
   "outputs": [],
   "source": [
    "dep_var = 'target'\n",
    "x = df[df.columns[~dep_var]].values\n",
    "y = df[dep_var].values"
   ]
  },
  {
   "cell_type": "code",
   "execution_count": null,
   "metadata": {},
   "outputs": [],
   "source": [
    "df[[c for c in df.columns if c not in [dep_var]]]"
   ]
  },
  {
   "cell_type": "code",
   "execution_count": null,
   "metadata": {},
   "outputs": [],
   "source": [
    "random.choices([1,2,3,4,5],k=20)"
   ]
  },
  {
   "cell_type": "code",
   "execution_count": 140,
   "metadata": {},
   "outputs": [],
   "source": [
    "# float_col = random.choices([1.,2.,3.,np.nan],k=20)\n",
    "# char_col = random.choices(['A','B','C',np.nan],k=20)\n",
    "# num_col = random.choices([1,2,3,4],k=20)\n",
    "float_col = random.choices([1.,2.,3.,1000],k=200)\n",
    "num_col = random.choices([1,2,3,4000],k=200)"
   ]
  },
  {
   "cell_type": "code",
   "execution_count": 147,
   "metadata": {},
   "outputs": [],
   "source": [
    "n = 10\n",
    "df = pd.DataFrame({f'col-{c}':random.choice([num_col,float_col]) for c in range(0,n)})"
   ]
  },
  {
   "cell_type": "code",
   "execution_count": null,
   "metadata": {},
   "outputs": [],
   "source": [
    "df.dtypes"
   ]
  },
  {
   "cell_type": "code",
   "execution_count": null,
   "metadata": {},
   "outputs": [],
   "source": [
    "df"
   ]
  },
  {
   "cell_type": "code",
   "execution_count": null,
   "metadata": {},
   "outputs": [],
   "source": [
    "for c in df.columns:\n",
    "    print(df[c].dtypes)\n",
    "    q1 = np.percentile(df[c], 25, method='midpoint')\n",
    "    q3 = np.percentile(df[c], 75, method='midpoint')\n",
    "    iqr = q3 - q1\n",
    "    upper = q3+1.5*iqr\n",
    "    lower = q1-1.5*iqr\n",
    "    print(df[df[c] >= upper])\n",
    "    print(df[df[c] <= lower])\n",
    "    df.loc[(df[c] >= upper) | (df[c] <= lower),c] = np.mean(df.loc[(df[c] < upper) & (df[c] > lower),c])\n",
    "    # df.loc[df[c] <= lower,c] = np.mean(df.loc[df[c] <= lower,c])"
   ]
  },
  {
   "cell_type": "code",
   "execution_count": null,
   "metadata": {},
   "outputs": [],
   "source": [
    "df"
   ]
  },
  {
   "cell_type": "code",
   "execution_count": null,
   "metadata": {},
   "outputs": [],
   "source": [
    "for c in df.columns:\n",
    "    print(df[c].dtypes)\n",
    "    if df[c].dtypes == 'float64' or df[c].dtypes == 'int64':\n",
    "        # df.loc[df[c].isna(),c] = df.loc[df[c].isna(),c].apply(lambda x : np.mean(df.loc[~df[c].isna(),c]))\n",
    "        # df.loc[df[c].isna(),c] = \n",
    "        df.loc[df[c].isna(),c] = np.mean(df.loc[~df[c].isna(),c])\n",
    "    else:\n",
    "    #     df.loc[df[c].isna(),c] = df.loc[df[c].isna(),c].apply(lambda x : np.mean(df.loc[~df[c].isna(),c]))\n",
    "        df = df.loc[~df[c].isna()]"
   ]
  },
  {
   "cell_type": "code",
   "execution_count": null,
   "metadata": {},
   "outputs": [],
   "source": [
    "df"
   ]
  },
  {
   "cell_type": "code",
   "execution_count": 163,
   "metadata": {},
   "outputs": [],
   "source": [
    "le = LabelEncoder()\n",
    "# Encode labels in column 'species'. \n",
    "df['target']= le.fit_transform(df['target']) "
   ]
  },
  {
   "cell_type": "code",
   "execution_count": null,
   "metadata": {},
   "outputs": [],
   "source": [
    "df['target'].unique()"
   ]
  },
  {
   "cell_type": "code",
   "execution_count": 7,
   "metadata": {},
   "outputs": [],
   "source": [
    "indep_cols = [c for c in df.columns if c not in ['target']]\n",
    "x = df[indep_cols]\n",
    "y = df['target']"
   ]
  },
  {
   "cell_type": "code",
   "execution_count": 9,
   "metadata": {},
   "outputs": [],
   "source": [
    "xtr,xts,ytr,yts = train_test_split(x, y, test_size=0.2, random_state=123)\n",
    "pca = PCA(n_components=2)\n",
    "pc_xtr = pca.fit_transform(xtr)\n",
    "pc_xts = pca.transform(xts)\n"
   ]
  },
  {
   "cell_type": "code",
   "execution_count": null,
   "metadata": {},
   "outputs": [],
   "source": [
    "df = pd.DataFrame(pc_xtr).concat(pc_xts)"
   ]
  },
  {
   "cell_type": "code",
   "execution_count": null,
   "metadata": {},
   "outputs": [],
   "source": [
    "df"
   ]
  },
  {
   "cell_type": "code",
   "execution_count": null,
   "metadata": {},
   "outputs": [],
   "source": [
    "df['target'].unique()"
   ]
  },
  {
   "cell_type": "code",
   "execution_count": 9,
   "metadata": {},
   "outputs": [],
   "source": [
    "import tkinter as tk\n",
    "from tkinter import filedialog\n",
    "import pickle"
   ]
  },
  {
   "cell_type": "code",
   "execution_count": null,
   "metadata": {},
   "outputs": [],
   "source": [
    "root = tk.Tk()\n",
    "root.withdraw()"
   ]
  },
  {
   "cell_type": "code",
   "execution_count": 13,
   "metadata": {},
   "outputs": [],
   "source": [
    "file_path = filedialog.asksaveasfilename(defaultextension=\".pkl\", \n",
    "                                         filetypes=[(\"Pickle files\", \"*.pkl\"), (\"All files\", \"*.*\")],\n",
    "                                         title=\"Save model\")"
   ]
  },
  {
   "cell_type": "code",
   "execution_count": null,
   "metadata": {},
   "outputs": [],
   "source": [
    "if file_path:\n",
    "    with open(file_path, 'wb') as file:\n",
    "        pickle.dump(model, file)\n",
    "    print(f\"Model saved to {file_path}\")\n",
    "else:\n",
    "    print(\"Save cancelled.\")"
   ]
  },
  {
   "cell_type": "code",
   "execution_count": null,
   "metadata": {},
   "outputs": [],
   "source": [
    "import pickle\n",
    "# Specify the filename of the saved model\n",
    "filename = r'C:\\Users\\Admin\\Documents\\books\\num_model_1.pkl'\n",
    "\n",
    "# Load the model from the file\n",
    "with open(filename, 'rb') as file:\n",
    "    loaded_model = pickle.load(file)\n",
    "\n",
    "# Now you can use the loaded model\n",
    "print(\"Model loaded successfully.\")\n",
    "# Assuming the model is a scikit-learn model, you can make predictions\n",
    "sample_data = [[0,4,9]]  # Example input\n",
    "predictions = loaded_model.predict(sample_data)\n",
    "print(\"Predictions:\", predictions)"
   ]
  },
  {
   "cell_type": "code",
   "execution_count": null,
   "metadata": {},
   "outputs": [],
   "source": [
    "regression_models = [\n",
    "    \"LinearRegression\", \"Ridge\", \"Lasso\", \"ElasticNet\", \"Lars\", \"LassoLars\", \"OrthogonalMatchingPursuit\",\n",
    "    \"BayesianRidge\", \"ARDRegression\", \"HuberRegressor\", \"PassiveAggressiveRegressor\", \"RANSACRegressor\",\n",
    "    \"TheilSenRegressor\", \"QuantileRegressor\"\n",
    "]\n",
    "for r in regression_models:\n",
    "    v = f'''\"{r}\":{r},'''\n",
    "    print(v)"
   ]
  },
  {
   "cell_type": "code",
   "execution_count": null,
   "metadata": {},
   "outputs": [],
   "source": [
    "','.join(regression_models)"
   ]
  },
  {
   "cell_type": "code",
   "execution_count": null,
   "metadata": {},
   "outputs": [],
   "source": [
    "from sklearn.utils import all_estimators\n",
    "from sklearn.base import ClassifierMixin\n",
    "\n",
    "# List all classifiers\n",
    "classifiers = [estimator for estimator in all_estimators() if issubclass(estimator[1], ClassifierMixin)]\n",
    "\n",
    "# Print classifier names\n",
    "print([_ for name, _ in classifiers])"
   ]
  },
  {
   "cell_type": "code",
   "execution_count": 21,
   "metadata": {},
   "outputs": [],
   "source": [
    "\n",
    "ls = ['AdaBoostClassifier', 'BaggingClassifier', 'BernoulliNB', 'CalibratedClassifierCV', 'CategoricalNB', 'ClassifierChain', 'ComplementNB', 'DecisionTreeClassifier', 'DummyClassifier', 'ExtraTreeClassifier', 'ExtraTreesClassifier', 'FixedThresholdClassifier', 'GaussianNB', 'GaussianProcessClassifier', 'GradientBoostingClassifier', 'HistGradientBoostingClassifier', 'KNeighborsClassifier', 'LabelPropagation', 'LabelSpreading', 'LinearDiscriminantAnalysis', 'LinearSVC', 'LogisticRegression', 'LogisticRegressionCV', 'MLPClassifier', 'MultiOutputClassifier', 'MultinomialNB', 'NearestCentroid', 'NuSVC', 'OneVsOneClassifier', 'OneVsRestClassifier', 'OutputCodeClassifier', 'PassiveAggressiveClassifier', 'Perceptron', 'QuadraticDiscriminantAnalysis', 'RadiusNeighborsClassifier', 'RandomForestClassifier', 'RidgeClassifier', 'RidgeClassifierCV', 'SGDClassifier', 'SVC', 'StackingClassifier', 'TunedThresholdClassifierCV', 'VotingClassifier']"
   ]
  },
  {
   "cell_type": "code",
   "execution_count": null,
   "metadata": {},
   "outputs": [],
   "source": [
    "','.join(ls)"
   ]
  },
  {
   "cell_type": "code",
   "execution_count": null,
   "metadata": {},
   "outputs": [],
   "source": [
    "for name, _ in classifiers:\n",
    "    mod = str(_).replace('<','').replace('>','').replace(\"'\",\"\").replace('class ','')\n",
    "    # print(mod)\n",
    "    mls = mod.split('.')\n",
    "    # v = f'''\"{r}\":linear_model,'''\n",
    "    # print(v)\n",
    "    # v = f'''\"{mls[-1]}\":\"{'.'.join(mls[:-1])}\",'''\n",
    "    v = f'''\"{mls[-1]}\":{mls[-1]},'''\n",
    "    print(v)\n",
    "    "
   ]
  },
  {
   "cell_type": "code",
   "execution_count": null,
   "metadata": {},
   "outputs": [],
   "source": [
    "from sklearn.ensemble._weight_boosting import AdaBoostClassifier"
   ]
  },
  {
   "cell_type": "code",
   "execution_count": 10,
   "metadata": {},
   "outputs": [],
   "source": [
    "import sklearn\n",
    "\n",
    "classification_models = {\n",
    "\"AdaBoostClassifier\":\"sklearn.ensemble._weight_boosting\",\n",
    "\"BaggingClassifier\":\"sklearn.ensemble._bagging\",\n",
    "\"BernoulliNB\":\"sklearn.naive_bayes\",\n",
    "\"CalibratedClassifierCV\":\"sklearn.calibration\",\n",
    "\"CategoricalNB\":\"sklearn.naive_bayes\",\n",
    "\"ClassifierChain\":\"sklearn.multioutput\",\n",
    "\"ComplementNB\":\"sklearn.naive_bayes\",\n",
    "\"DecisionTreeClassifier\":\"sklearn.tree._classes\",\n",
    "\"DummyClassifier\":\"sklearn.dummy\",\n",
    "\"ExtraTreeClassifier\":\"sklearn.tree._classes\",\n",
    "\"ExtraTreesClassifier\":\"sklearn.ensemble._forest\",\n",
    "\"FixedThresholdClassifier\":\"sklearn.model_selection._classification_threshold\",\n",
    "\"GaussianNB\":\"sklearn.naive_bayes\",\n",
    "\"GaussianProcessClassifier\":\"sklearn.gaussian_process._gpc\",\n",
    "\"GradientBoostingClassifier\":\"sklearn.ensemble._gb\",\n",
    "\"HistGradientBoostingClassifier\":\"sklearn.ensemble._hist_gradient_boosting.gradient_boosting\",\n",
    "\"KNeighborsClassifier\":\"sklearn.neighbors._classification\",\n",
    "\"LabelPropagation\":\"sklearn.semi_supervised._label_propagation\",\n",
    "\"LabelSpreading\":\"sklearn.semi_supervised._label_propagation\",\n",
    "\"LinearDiscriminantAnalysis\":\"sklearn.discriminant_analysis\",\n",
    "\"LinearSVC\":\"sklearn.svm._classes\",\n",
    "\"LogisticRegression\":\"sklearn.linear_model._logistic\",\n",
    "\"LogisticRegressionCV\":\"sklearn.linear_model._logistic\",\n",
    "\"MLPClassifier\":\"sklearn.neural_network._multilayer_perceptron\",\n",
    "\"MultiOutputClassifier\":\"sklearn.multioutput\",\n",
    "\"MultinomialNB\":\"sklearn.naive_bayes\",\n",
    "\"NearestCentroid\":\"sklearn.neighbors._nearest_centroid\",\n",
    "\"NuSVC\":\"sklearn.svm._classes\",\n",
    "\"OneVsOneClassifier\":\"sklearn.multiclass\",\n",
    "\"OneVsRestClassifier\":\"sklearn.multiclass\",\n",
    "\"OutputCodeClassifier\":\"sklearn.multiclass\",\n",
    "\"PassiveAggressiveClassifier\":\"sklearn.linear_model._passive_aggressive\",\n",
    "\"Perceptron\":\"sklearn.linear_model._perceptron\",\n",
    "\"QuadraticDiscriminantAnalysis\":\"sklearn.discriminant_analysis\",\n",
    "\"RadiusNeighborsClassifier\":\"sklearn.neighbors._classification\",\n",
    "\"RandomForestClassifier\":\"sklearn.ensemble._forest\",\n",
    "\"RidgeClassifier\":\"sklearn.linear_model._ridge\",\n",
    "\"RidgeClassifierCV\":\"sklearn.linear_model._ridge\",\n",
    "\"SGDClassifier\":\"sklearn.linear_model._stochastic_gradient\",\n",
    "\"SVC\":\"sklearn.svm._classes\",\n",
    "\"StackingClassifier\":\"sklearn.ensemble._stacking\",\n",
    "\"TunedThresholdClassifierCV\":\"sklearn.model_selection._classification_threshold\",\n",
    "\"VotingClassifier\":\"sklearn.ensemble._voting\"\n",
    "}"
   ]
  },
  {
   "cell_type": "code",
   "execution_count": null,
   "metadata": {},
   "outputs": [],
   "source": [
    "dc = {}\n",
    "for c in classification_models.keys():\n",
    "    v = f'''from {classification_models[c]} import {c}'''\n",
    "    if classification_models[c] not in dc.keys():\n",
    "        dc[classification_models[c]] = [c]\n",
    "    else:\n",
    "        dc[classification_models[c]].append(c)"
   ]
  },
  {
   "cell_type": "code",
   "execution_count": null,
   "metadata": {},
   "outputs": [],
   "source": [
    "for k in dc.keys():\n",
    "    v = f'''from {k} import {','.join(dc[k])}'''\n",
    "    print(v)"
   ]
  },
  {
   "cell_type": "code",
   "execution_count": 1,
   "metadata": {},
   "outputs": [],
   "source": [
    "from sample_pkg import dc"
   ]
  },
  {
   "cell_type": "code",
   "execution_count": null,
   "metadata": {},
   "outputs": [],
   "source": [
    "dc.values"
   ]
  },
  {
   "cell_type": "code",
   "execution_count": 7,
   "metadata": {},
   "outputs": [],
   "source": [
    "results = list(dict())"
   ]
  },
  {
   "cell_type": "code",
   "execution_count": 14,
   "metadata": {},
   "outputs": [],
   "source": [
    "import random\n",
    "import pandas as pd\n",
    "import string"
   ]
  },
  {
   "cell_type": "code",
   "execution_count": 15,
   "metadata": {},
   "outputs": [],
   "source": [
    "for i in range(10):\n",
    "    results.append({\n",
    "                        \"Model->\"+random.choice(string.ascii_lowercase)+\"&\"+\"Train_score->\"+\"B\"+\"&\"+\"Test_score->\"+\"B\": \"AAAAAAA\",\n",
    "                        \"Training Score\":random.choice(range(5))\n",
    "                    })"
   ]
  },
  {
   "cell_type": "code",
   "execution_count": null,
   "metadata": {},
   "outputs": [],
   "source": [
    "results"
   ]
  },
  {
   "cell_type": "code",
   "execution_count": 25,
   "metadata": {},
   "outputs": [],
   "source": [
    "lsdc = sorted(results,key=lambda x:x['Training Score'],reverse=True)[:5]"
   ]
  },
  {
   "cell_type": "code",
   "execution_count": null,
   "metadata": {},
   "outputs": [],
   "source": [
    "[i[list(i.keys())[0]] for i in lsdc]"
   ]
  },
  {
   "cell_type": "code",
   "execution_count": null,
   "metadata": {},
   "outputs": [],
   "source": [
    "lsdc"
   ]
  },
  {
   "cell_type": "code",
   "execution_count": null,
   "metadata": {},
   "outputs": [],
   "source": [
    "[str(list(i.values()) for i in lsdc]"
   ]
  },
  {
   "cell_type": "code",
   "execution_count": 55,
   "metadata": {},
   "outputs": [],
   "source": [
    "import os"
   ]
  },
  {
   "cell_type": "code",
   "execution_count": null,
   "metadata": {},
   "outputs": [],
   "source": [
    "os.getcwd()"
   ]
  },
  {
   "cell_type": "code",
   "execution_count": null,
   "metadata": {},
   "outputs": [],
   "source": []
  }
 ],
 "metadata": {
  "kernelspec": {
   "display_name": "Python 3",
   "language": "python",
   "name": "python3"
  },
  "language_info": {
   "codemirror_mode": {
    "name": "ipython",
    "version": 3
   },
   "file_extension": ".py",
   "mimetype": "text/x-python",
   "name": "python",
   "nbconvert_exporter": "python",
   "pygments_lexer": "ipython3",
   "version": "3.11.5"
  }
 },
 "nbformat": 4,
 "nbformat_minor": 2
}
